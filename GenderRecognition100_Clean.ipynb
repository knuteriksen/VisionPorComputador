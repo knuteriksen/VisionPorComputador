{
  "nbformat": 4,
  "nbformat_minor": 0,
  "metadata": {
    "accelerator": "GPU",
    "colab": {
      "name": "GenderRecognition100_Full.ipynb",
      "provenance": [],
      "collapsed_sections": [],
      "include_colab_link": true
    },
    "kernelspec": {
      "display_name": "Python 3",
      "name": "python3"
    }
  },
  "cells": [
    {
      "cell_type": "markdown",
      "metadata": {
        "id": "view-in-github",
        "colab_type": "text"
      },
      "source": [
        "<a href=\"https://colab.research.google.com/github/knuteriksen/VisionPorComputador/blob/main/GenderRecognition100_Clean.ipynb\" target=\"_parent\"><img src=\"https://colab.research.google.com/assets/colab-badge.svg\" alt=\"Open In Colab\"/></a>"
      ]
    },
    {
      "cell_type": "markdown",
      "metadata": {
        "id": "2wAbdZ2XNQwx"
      },
      "source": [
        "Check which GPU Google gives you - just for fun"
      ]
    },
    {
      "cell_type": "code",
      "metadata": {
        "id": "QrN-ueDxNP0h"
      },
      "source": [
        "!nvidia-smi -L"
      ],
      "execution_count": null,
      "outputs": []
    },
    {
      "cell_type": "markdown",
      "metadata": {
        "id": "5ltYXtixLo5v"
      },
      "source": [
        "Install keras"
      ]
    },
    {
      "cell_type": "code",
      "metadata": {
        "id": "iQWQsyaYLn4E"
      },
      "source": [
        "!pip3 install keras"
      ],
      "execution_count": null,
      "outputs": []
    },
    {
      "cell_type": "markdown",
      "metadata": {
        "id": "hcbvnnGQHE9w"
      },
      "source": [
        "Imports needed\n"
      ]
    },
    {
      "cell_type": "code",
      "metadata": {
        "id": "ppc9U6O0GSc6"
      },
      "source": [
        "from __future__ import print_function\n",
        "\n",
        "import numpy as np\n",
        "import matplotlib.pyplot as plt\n",
        "import keras\n",
        "from keras.datasets import cifar10\n",
        "from keras.models import Sequential\n",
        "from keras.layers import Dense, Dropout, Activation, Flatten\n",
        "from keras.layers import Conv2D, MaxPooling2D\n",
        "from keras.layers.normalization import BatchNormalization as BN\n",
        "from keras.layers import GaussianNoise as GN\n",
        "from keras.optimizers import SGD, Adam\n",
        "\n",
        "from keras.callbacks import LearningRateScheduler as LRS\n",
        "from keras.preprocessing.image import ImageDataGenerator\n",
        "import os\n"
      ],
      "execution_count": null,
      "outputs": []
    },
    {
      "cell_type": "markdown",
      "metadata": {
        "id": "qguD9UQXHNxT"
      },
      "source": [
        "Definitions, and extractions and preprprocessing of training and test dada"
      ]
    },
    {
      "cell_type": "code",
      "metadata": {
        "id": "F4oun3GPG7bq"
      },
      "source": [
        "## Definitions\n",
        "num_classes = 2\n",
        "\n",
        "# Download training and test sets\n",
        "os.system('wget https://www.dropbox.com/s/zcwlujrtz3izcw8/gender.tgz')\n",
        "os.system('tar xvzf gender.tgz')\n",
        "\n",
        "\n",
        "# Load\n",
        "x_train = np.load('x_train.npy')\n",
        "x_test = np.load('x_test.npy')\n",
        "\n",
        "y_train = np.load('y_train.npy')\n",
        "y_test = np.load('y_test.npy')\n",
        "\n",
        "\n",
        "# Print out information\n",
        "print(\"X train: \", x_train.shape)\n",
        "print(\"Y train: \", y_train.shape)\n",
        "print(\"X test:  \", x_test.shape)\n",
        "print(\"Y test:  \", y_test.shape)\n",
        "\n",
        "## Transforms\n",
        "x_train = x_train.astype('float32')\n",
        "x_test = x_test.astype('float32')\n",
        "\n",
        "y_train = y_train.astype('float32')\n",
        "y_test = y_test.astype('float32')\n",
        "\n",
        "x_train /= 255\n",
        "x_test /= 255\n",
        "\n",
        "print(\"X train: \", x_train.shape)\n",
        "print(\"Y train: \", y_train.shape)\n",
        "\n",
        "y_train = keras.utils.to_categorical(y_train, num_classes)\n",
        "y_test = keras.utils.to_categorical(y_test, num_classes)"
      ],
      "execution_count": null,
      "outputs": []
    },
    {
      "cell_type": "markdown",
      "metadata": {
        "id": "c7rSVKWEJTtr"
      },
      "source": [
        "Building of model"
      ]
    },
    {
      "cell_type": "code",
      "metadata": {
        "id": "jOFiCuwsG7hL"
      },
      "source": [
        "model = Sequential()\n",
        "model.add(keras.Input(shape=x_train.shape[1:]))\n",
        "\n",
        "model.add(Conv2D(filters=16, kernel_size=3, strides=1, activation=\"relu\", padding=\"same\"))\n",
        "model.add(BN())\n",
        "model.add(Conv2D(filters=16, kernel_size=3, strides=1, activation=\"relu\", padding=\"same\"))\n",
        "model.add(BN())\n",
        "model.add(MaxPooling2D(pool_size=2, strides=2))\n",
        "\n",
        "model.add(Conv2D(filters=32, kernel_size=3, strides=1, activation=\"relu\", padding=\"same\"))\n",
        "model.add(BN())\n",
        "model.add(Conv2D(filters=32, kernel_size=3, strides=1, activation=\"relu\", padding=\"same\"))\n",
        "model.add(BN())\n",
        "model.add(MaxPooling2D(pool_size=2, strides=2))\n",
        "\n",
        "model.add(Conv2D(filters=64, kernel_size=3, strides=1, activation=\"relu\", padding=\"same\"))\n",
        "model.add(BN())\n",
        "model.add(Conv2D(filters=64, kernel_size=3, strides=1, activation=\"relu\", padding=\"same\"))\n",
        "model.add(BN())\n",
        "model.add(MaxPooling2D(pool_size=2, strides=2))\n",
        "\n",
        "model.add(Dropout(0.5))\n",
        "model.add(Flatten())\n",
        "\n",
        "model.add(Dropout(0.5))\n",
        "model.add(Dense(num_classes, activation=\"softmax\"))"
      ],
      "execution_count": null,
      "outputs": []
    },
    {
      "cell_type": "markdown",
      "metadata": {
        "id": "0BvXUdXYJvls"
      },
      "source": [
        "Display model"
      ]
    },
    {
      "cell_type": "code",
      "metadata": {
        "id": "HNXZgWTFG0J7"
      },
      "source": [
        "model.summary()"
      ],
      "execution_count": null,
      "outputs": []
    },
    {
      "cell_type": "code",
      "metadata": {
        "id": "uBEs-B7UZNvS"
      },
      "source": [
        "keras.utils.plot_model(model, \"my_first_model_with_shape_info.png\", show_shapes=True)"
      ],
      "execution_count": null,
      "outputs": []
    },
    {
      "cell_type": "markdown",
      "metadata": {
        "id": "oabcxQMTJ3uG"
      },
      "source": [
        "Compile model"
      ]
    },
    {
      "cell_type": "code",
      "metadata": {
        "id": "HW7CS6DmJ2HJ"
      },
      "source": [
        "model.compile(loss=\"categorical_crossentropy\",\n",
        "              optimizer=Adam(learning_rate=0.0001),\n",
        "              metrics=[\"accuracy\"])\n",
        "\n",
        "\n",
        "datagen = ImageDataGenerator(\n",
        "  width_shift_range=0.2,\n",
        "  height_shift_range=0.2,\n",
        "  rotation_range=20,\n",
        "  zoom_range=[1.0,1.2],\n",
        "  horizontal_flip=True\n",
        "  )\n",
        "\n",
        "def multiple_data_generator(generator, X,Y,bs):\n",
        "    genX = generator.flow(X, Y, batch_size=bs)\n",
        "    while True:\n",
        "      [Xi,Yi] = genX.next()\n",
        "      yield   Xi,Yi"
      ],
      "execution_count": null,
      "outputs": []
    },
    {
      "cell_type": "markdown",
      "metadata": {
        "id": "CzsRJ-DuJ9xM"
      },
      "source": [
        "Training"
      ]
    },
    {
      "cell_type": "code",
      "metadata": {
        "id": "V_pu3g0uJ-4q"
      },
      "source": [
        "batch_size = 73\n",
        "\n",
        "history=model.fit(x=multiple_data_generator(datagen, x_train, y_train, batch_size),\n",
        "                  epochs=150,\n",
        "                  steps_per_epoch = len(x_train) / batch_size,                 \n",
        "                  validation_data=(x_test, y_test),\n",
        "                  verbose=1\n",
        ")"
      ],
      "execution_count": null,
      "outputs": []
    },
    {
      "cell_type": "markdown",
      "metadata": {
        "id": "u3p6yK98J_Yq"
      },
      "source": [
        "Testing"
      ]
    },
    {
      "cell_type": "code",
      "metadata": {
        "id": "MdOChYNjKFTt"
      },
      "source": [
        "scores = model.evaluate(x_test, y_test, verbose=1)\n",
        "print('Test loss:', scores[0])\n",
        "print('Test accuracy:', scores[1])"
      ],
      "execution_count": null,
      "outputs": []
    },
    {
      "cell_type": "code",
      "metadata": {
        "id": "DtBBTz7_IEct"
      },
      "source": [
        "plt.rcParams[\"figure.figsize\"] = (15,10)\n",
        "\n",
        "f, (ax1, ax2) = plt.subplots(1, 2, sharex=True)\n",
        "ax1.set_yscale('log')\n",
        "ax1.plot(history.history['loss'], label=\"loss\")\n",
        "ax1.plot(history.history['val_loss'], label=\"val_loss\")\n",
        "ax1.legend()\n",
        "\n",
        "ax2.plot(history.history['accuracy'], label=\"accuracy\")\n",
        "ax2.plot(history.history['val_accuracy'], label=\"validation accuracy\")\n",
        "ax2.legend()\n",
        "\n",
        "plt.setp(ax1, xlabel='Epochs')\n",
        "plt.setp(ax2, xlabel='Epochs')\n",
        "f.suptitle('Gender recognition', fontsize='x-large')\n",
        "plt.show();"
      ],
      "execution_count": null,
      "outputs": []
    }
  ]
}